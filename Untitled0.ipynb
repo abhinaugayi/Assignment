{
  "nbformat": 4,
  "nbformat_minor": 0,
  "metadata": {
    "colab": {
      "provenance": []
    },
    "kernelspec": {
      "name": "python3",
      "display_name": "Python 3"
    },
    "language_info": {
      "name": "python"
    }
  },
  "cells": [
    {
      "cell_type": "code",
      "execution_count": null,
      "metadata": {
        "id": "cKr-Y1EmTam3"
      },
      "outputs": [],
      "source": []
    },
    {
      "cell_type": "markdown",
      "source": [
        "What is python and why is it popular ?\n",
        "\n",
        "Answer : Python is a programming language developed by guido van rossum . It is popular because it contains many useful libraries and it is easy to learn incomparison to another programming languages.\n",
        "\n",
        "\n",
        "\n"
      ],
      "metadata": {
        "id": "eKsJIVMHTiIX"
      }
    },
    {
      "cell_type": "markdown",
      "source": [
        "What is an interpreter in python ?\n",
        "\n",
        "Answer : Interpreter interpetes the codes that means in python an interpreter excuetes a code and run it by reading every single line and if there is any error in any line of programme it shows an error . without reading next line"
      ],
      "metadata": {
        "id": "oCSCOx4uUFJg"
      }
    },
    {
      "cell_type": "markdown",
      "source": [
        "What are pre-defined keywords in Python?\n",
        "\n",
        "Answer: Pre-defined keywords are those keywords which have a specific  meaning and it's purpose"
      ],
      "metadata": {
        "id": "x9pEbULTU8PJ"
      }
    },
    {
      "cell_type": "markdown",
      "source": [
        "Can keywords be used as variable names ?\n",
        "\n",
        "Answer : No keywords can't be variable names if we try to do so then python will give an error when we use that keyword in programme.\n",
        "for ex : print = 1 + 2\n",
        "         print(print)\n",
        "         this will generate an error because we are using keyword as variable name\n",
        "\n"
      ],
      "metadata": {
        "id": "CXKUcZVXVZvV"
      }
    },
    {
      "cell_type": "markdown",
      "source": [
        "What is mutability in Python ?\n",
        "\n",
        "Answers : Mutability defines an object vale can be changed after assigning it some value or it has been created"
      ],
      "metadata": {
        "id": "MhrldiSqWi2P"
      }
    },
    {
      "cell_type": "markdown",
      "source": [
        "Why are lists mutable, but tuples are immutable ?\n",
        "\n",
        "Answer : List are mutable because the object and values of list can be changed after execution while in case of tuple it's value can't be changed . for example :- we make a list of vegetable so we can change it's value according to our need and can remove it so it show's it's mutability\n",
        "we have addhar number or pan card stored in a data base so their is a unique pan number  or aadhar is assigned to a user . so once this unique number is assigned and saved we don't need to change it . This is an example of tuples"
      ],
      "metadata": {
        "id": "phTuvbL8XHm0"
      }
    },
    {
      "cell_type": "markdown",
      "source": [
        "What is the difference between “==” and “is” operators in Python ?\n",
        "\n",
        "Answer : difference between the \"==\" and \"is\" operator in python is that \"==\" this operator defines that the value is equals to this value or the value has been given . it checks the value is equal or not while \"is\" operator is  used to test if two variables refer to the same object or not .\n",
        "\n"
      ],
      "metadata": {
        "id": "obmb5bNKYUzI"
      }
    },
    {
      "cell_type": "markdown",
      "source": [
        "What are logical operators in Python ?\n",
        "\n",
        "Answers : logical operators in python are those operators used to evaluate conditin in a single expression ."
      ],
      "metadata": {
        "id": "grZEFHGJY_qV"
      }
    },
    {
      "cell_type": "markdown",
      "source": [
        "What is type casting in Python ?\n",
        "\n",
        "Answer : type casting refers to convert the variable data type into various data types like int(),float() etc\n"
      ],
      "metadata": {
        "id": "tWuTNxOgZbbA"
      }
    },
    {
      "cell_type": "markdown",
      "source": [
        "What is the difference between implicit and explicit type casting ?\n",
        "\n",
        " Answers : Difference between implicit and explicit type casting are :   \n",
        "  implicit\n",
        "\n",
        "  In implicit type casting . type cating occur automatically  in programme . like when we add an integer to a float then it integer get's automatically converted to float for addition .\n",
        "\n",
        "  explicit type casting\n",
        "\n",
        "  in explicit type casting . Type casting occur manually  that means programmer have to do it manually . like :- if we have to convert a variable into string then we have define it str() then variable to change it to string .\n",
        "\n",
        "  \n",
        "\n"
      ],
      "metadata": {
        "id": "gj8bDmUuZ2Kl"
      }
    },
    {
      "cell_type": "markdown",
      "source": [
        "What is the purpose of conditional statements in Python ?\n",
        "\n",
        "Answes :  the purpose of conditional statements in Python  to make the decisions based on the condition .\n",
        "\n"
      ],
      "metadata": {
        "id": "5ertG6oSbUEq"
      }
    },
    {
      "cell_type": "markdown",
      "source": [
        "How does the elif statement work ?\n",
        "\n",
        "Answers : elif statement is used when the first statement \"if\" is not true and we have  to check the statement for another condition for that purpose \"elif\"\n",
        " is used .\n",
        "\n",
        "\n",
        "\n"
      ],
      "metadata": {
        "id": "UF428A2dckfX"
      }
    },
    {
      "cell_type": "markdown",
      "source": [
        "What is the difference between for and while loops ?\n",
        "\n",
        "Answer :The difference between for and while loops are :        \n",
        " while loop\n",
        " this loop is when we don't know the number of  times it will repeat and give us the required result . while loop is slower in comparison to for loop because in for loop we set a range\n",
        "\n",
        " for loop\n",
        " this loop is used when we know the number of iteration . It is fast incomparison to while loop ."
      ],
      "metadata": {
        "id": "m_9RcvseM1K5"
      }
    },
    {
      "cell_type": "markdown",
      "source": [
        "Describe a scenario where a while loop is more suitable than a for loop ?\n",
        "\n",
        "Answer : while loop is more sutiable in the scenario when we don't know the number of times iteration should be done to get that result .\n"
      ],
      "metadata": {
        "id": "AwvDvcVqOFhv"
      }
    },
    {
      "cell_type": "markdown",
      "source": [
        "# **Practical Questions**"
      ],
      "metadata": {
        "id": "1omrFuPbPHGW"
      }
    },
    {
      "cell_type": "markdown",
      "source": [
        "Write a Python program to print \"Hello, World! ?"
      ],
      "metadata": {
        "id": "-NBYVwkLPPjT"
      }
    },
    {
      "cell_type": "code",
      "source": [
        "print(\"Hello, World!\")"
      ],
      "metadata": {
        "colab": {
          "base_uri": "https://localhost:8080/"
        },
        "id": "LpVsMafiZ0sH",
        "outputId": "7788a00d-28de-403b-9699-dfe78787679f"
      },
      "execution_count": null,
      "outputs": [
        {
          "output_type": "stream",
          "name": "stdout",
          "text": [
            "Hello, World!\n"
          ]
        }
      ]
    },
    {
      "cell_type": "markdown",
      "source": [
        "Write a Python program that displays your name and age ?"
      ],
      "metadata": {
        "id": "HR1pwdfLPk5T"
      }
    },
    {
      "cell_type": "code",
      "source": [
        "name =input(\" Enter your name \")\n",
        "age = int(input(\" Enter your age \"))\n",
        "print(name ,age)\n",
        "\n"
      ],
      "metadata": {
        "colab": {
          "base_uri": "https://localhost:8080/"
        },
        "id": "b1E8PtjiPZJj",
        "outputId": "f8d5c072-5cef-4a01-8399-b7120d7008f6"
      },
      "execution_count": null,
      "outputs": [
        {
          "output_type": "stream",
          "name": "stdout",
          "text": [
            " Enter your name Abhishek\n",
            " Enter your age 18\n",
            "Abhishek 18\n"
          ]
        }
      ]
    },
    {
      "cell_type": "markdown",
      "source": [
        "Write code to print all the pre-defined keywords in Python using the keyword library ?"
      ],
      "metadata": {
        "id": "9Y61ps2BQyIg"
      }
    },
    {
      "cell_type": "code",
      "source": [
        "help(\"keywords\")"
      ],
      "metadata": {
        "colab": {
          "base_uri": "https://localhost:8080/"
        },
        "id": "VtLK6WEYQ3KE",
        "outputId": "3cc92a47-daa3-4763-a461-f0f5f956fa3c"
      },
      "execution_count": null,
      "outputs": [
        {
          "output_type": "stream",
          "name": "stdout",
          "text": [
            "\n",
            "Here is a list of the Python keywords.  Enter any keyword to get more help.\n",
            "\n",
            "False               class               from                or\n",
            "None                continue            global              pass\n",
            "True                def                 if                  raise\n",
            "and                 del                 import              return\n",
            "as                  elif                in                  try\n",
            "assert              else                is                  while\n",
            "async               except              lambda              with\n",
            "await               finally             nonlocal            yield\n",
            "break               for                 not                 \n",
            "\n"
          ]
        }
      ]
    },
    {
      "cell_type": "markdown",
      "source": [
        "Write a program that checks if a given word is a Python keyword ?"
      ],
      "metadata": {
        "id": "ccdxzFpGSc6F"
      }
    },
    {
      "cell_type": "code",
      "source": [
        "import keyword\n",
        "\n",
        "def check_keyword(word):\n",
        "    if keyword.iskeyword(word):\n",
        "        return f\"'{word}' is a Python keyword.\"\n",
        "    else:\n",
        "        return f\"'{word}' is not a Python keyword.\"\n",
        "\n",
        "word = input(\"Enter a word to check if it's a Python keyword: \")\n",
        "result = check_keyword(word)\n",
        "print(result)\n"
      ],
      "metadata": {
        "colab": {
          "base_uri": "https://localhost:8080/"
        },
        "id": "xT2PRwzFQ720",
        "outputId": "cf7ef119-c330-47ab-df39-330c5e4f820f"
      },
      "execution_count": null,
      "outputs": [
        {
          "output_type": "stream",
          "name": "stdout",
          "text": [
            "Enter a word to check if it's a Python keyword: print\n",
            "'print' is not a Python keyword.\n"
          ]
        }
      ]
    },
    {
      "cell_type": "markdown",
      "source": [
        "Create a list and tuple in Python, and demonstrate how attempting to change an element works differently\n",
        "for each ?"
      ],
      "metadata": {
        "id": "6BCNTw2RUEqI"
      }
    },
    {
      "cell_type": "code",
      "source": [
        "# in tuple changing element can't occur but we can replace\n",
        "string1 = \"hlw ,wrld ,py\"\n",
        "string1.replace(\"hlw\",\"hello\")\n",
        "\n",
        "\n"
      ],
      "metadata": {
        "colab": {
          "base_uri": "https://localhost:8080/",
          "height": 36
        },
        "id": "c_7o2X40TyuU",
        "outputId": "673fcbf9-e157-4c15-8c0f-4fd13cc62132"
      },
      "execution_count": 3,
      "outputs": [
        {
          "output_type": "execute_result",
          "data": {
            "text/plain": [
              "'hello ,wrld ,py'"
            ],
            "application/vnd.google.colaboratory.intrinsic+json": {
              "type": "string"
            }
          },
          "metadata": {},
          "execution_count": 3
        }
      ]
    },
    {
      "cell_type": "code",
      "source": [
        "# in list we can change the value\n",
        "list1 = [\"orange\",\"peach\",\"apple\"]\n",
        "list1[0]=\"banana\"\n",
        "print(list1)"
      ],
      "metadata": {
        "colab": {
          "base_uri": "https://localhost:8080/"
        },
        "id": "0mLgto0lmZyQ",
        "outputId": "833e096c-c18d-48a6-a7f7-939eeedd8223"
      },
      "execution_count": 4,
      "outputs": [
        {
          "output_type": "stream",
          "name": "stdout",
          "text": [
            "['banana', 'peach', 'apple']\n"
          ]
        }
      ]
    },
    {
      "cell_type": "markdown",
      "source": [
        "Write a Python program to convert user input from string to integer, float, and boolean types ?"
      ],
      "metadata": {
        "id": "WxZpr2kmmfDU"
      }
    },
    {
      "cell_type": "code",
      "source": [
        "user_input = input(\"Enter a value: \")\n",
        "try:\n",
        "    integer_value = int(user_input)\n",
        "    print(f\"Converted to integer: {integer_value}\")\n",
        "except:\n",
        "  integer_value = None\n",
        "try:\n",
        "    float_value = float(user_input)\n",
        "    print(f\"Converted to float: {float_value}\")\n",
        "except:\n",
        "  float_value = None\n",
        "  try:\n",
        "    boolean_value = bool(user_input)\n",
        "    print(f\"Converted to boolean: {boolean_value}\")\n",
        "  except:\n",
        "    boolean_value = None\n",
        "\n",
        "\n"
      ],
      "metadata": {
        "id": "w7tkVomGYHSX",
        "colab": {
          "base_uri": "https://localhost:8080/"
        },
        "outputId": "da86242f-1d78-4572-9f3f-ebbe3c4fd784"
      },
      "execution_count": 26,
      "outputs": [
        {
          "output_type": "stream",
          "name": "stdout",
          "text": [
            "Enter a value: 4\n",
            "Converted to integer: 4\n",
            "Converted to float: 4.0\n"
          ]
        }
      ]
    },
    {
      "cell_type": "markdown",
      "source": [
        "Write a program that checks if a number is positive, negative, or zero ?"
      ],
      "metadata": {
        "id": "e44oMwNjoR69"
      }
    },
    {
      "cell_type": "code",
      "source": [
        "number = int(input(\"Enter a number\"))\n",
        "if number >= 0 :\n",
        "  print(\"positive\")\n",
        "elif number < 0:\n",
        "  print(\"negative\")\n",
        "else:\n",
        "  print(\"zero\")\n"
      ],
      "metadata": {
        "colab": {
          "base_uri": "https://localhost:8080/"
        },
        "id": "AWlNNiURnHuA",
        "outputId": "a8d52573-ebdb-4a2b-f46f-c36c792353d0"
      },
      "execution_count": 24,
      "outputs": [
        {
          "output_type": "stream",
          "name": "stdout",
          "text": [
            "Enter a number-4\n",
            "negative\n"
          ]
        }
      ]
    },
    {
      "cell_type": "markdown",
      "source": [
        " Write a for loop to print numbers from 1 to 100 ?"
      ],
      "metadata": {
        "id": "8rNztOepqwQ6"
      }
    },
    {
      "cell_type": "code",
      "source": [
        "num = ()\n",
        "for i in range(1,101):\n",
        "  num = 0 + i\n",
        "  print(num)\n",
        "\n"
      ],
      "metadata": {
        "colab": {
          "base_uri": "https://localhost:8080/"
        },
        "id": "LQc3qO4Vo8Qd",
        "outputId": "0ed1c2b6-ddc9-4039-d2c3-9e0e5b808e25"
      },
      "execution_count": 35,
      "outputs": [
        {
          "output_type": "stream",
          "name": "stdout",
          "text": [
            "1\n",
            "2\n",
            "3\n",
            "4\n",
            "5\n",
            "6\n",
            "7\n",
            "8\n",
            "9\n",
            "10\n",
            "11\n",
            "12\n",
            "13\n",
            "14\n",
            "15\n",
            "16\n",
            "17\n",
            "18\n",
            "19\n",
            "20\n",
            "21\n",
            "22\n",
            "23\n",
            "24\n",
            "25\n",
            "26\n",
            "27\n",
            "28\n",
            "29\n",
            "30\n",
            "31\n",
            "32\n",
            "33\n",
            "34\n",
            "35\n",
            "36\n",
            "37\n",
            "38\n",
            "39\n",
            "40\n",
            "41\n",
            "42\n",
            "43\n",
            "44\n",
            "45\n",
            "46\n",
            "47\n",
            "48\n",
            "49\n",
            "50\n",
            "51\n",
            "52\n",
            "53\n",
            "54\n",
            "55\n",
            "56\n",
            "57\n",
            "58\n",
            "59\n",
            "60\n",
            "61\n",
            "62\n",
            "63\n",
            "64\n",
            "65\n",
            "66\n",
            "67\n",
            "68\n",
            "69\n",
            "70\n",
            "71\n",
            "72\n",
            "73\n",
            "74\n",
            "75\n",
            "76\n",
            "77\n",
            "78\n",
            "79\n",
            "80\n",
            "81\n",
            "82\n",
            "83\n",
            "84\n",
            "85\n",
            "86\n",
            "87\n",
            "88\n",
            "89\n",
            "90\n",
            "91\n",
            "92\n",
            "93\n",
            "94\n",
            "95\n",
            "96\n",
            "97\n",
            "98\n",
            "99\n",
            "100\n"
          ]
        }
      ]
    },
    {
      "cell_type": "markdown",
      "source": [],
      "metadata": {
        "id": "loQRloJWsj7U"
      }
    },
    {
      "cell_type": "markdown",
      "source": [
        "Write a Python program to find the sum of all even numbers between 1 and 500 ?"
      ],
      "metadata": {
        "id": "5lxjUuKurxk1"
      }
    },
    {
      "cell_type": "code",
      "source": [
        "num = 0\n",
        "for i in range(1,501):\n",
        " if i%2 == 0:\n",
        "  num += i\n",
        " print(\"the sum is even\",num)"
      ],
      "metadata": {
        "id": "WwyZm7BNq2jV"
      },
      "execution_count": null,
      "outputs": []
    },
    {
      "cell_type": "markdown",
      "source": [
        "Write a program to reverse a string using a while loop ?"
      ],
      "metadata": {
        "id": "uM4r7mnAu3Ud"
      }
    },
    {
      "cell_type": "code",
      "source": [
        "user_input = input(\"Enter a string: \")\n",
        "reversed_string = \"\"\n",
        "index = len(user_input) - 1\n",
        "\n",
        "while index >= 0:\n",
        "    reversed_string += user_input[index]\n",
        "    index -= 1\n",
        "\n",
        "print(\"Reversed string:\", reversed_string)\n"
      ],
      "metadata": {
        "colab": {
          "base_uri": "https://localhost:8080/"
        },
        "id": "k-QJqmZPsNSv",
        "outputId": "4c407743-94e3-48cb-e9ae-560c4c9adbcc"
      },
      "execution_count": 49,
      "outputs": [
        {
          "output_type": "stream",
          "name": "stdout",
          "text": [
            "Enter a string: hello\n",
            "Reversed string: olleh\n"
          ]
        }
      ]
    },
    {
      "cell_type": "markdown",
      "source": [
        "Write a Python program to calculate the factorial of a number provided by the user using a while loop ?"
      ],
      "metadata": {
        "id": "wQ5f6GrAv1Re"
      }
    },
    {
      "cell_type": "code",
      "source": [
        "a = int(input(\"enter the number\"))\n",
        "fact = 1\n",
        "while a > 0:\n",
        "  fact *= a\n",
        "  a -= 1\n",
        "print(fact)"
      ],
      "metadata": {
        "colab": {
          "base_uri": "https://localhost:8080/"
        },
        "id": "hzwto08svm0m",
        "outputId": "162e8708-8b23-482f-8168-0e852fee668d"
      },
      "execution_count": 52,
      "outputs": [
        {
          "output_type": "stream",
          "name": "stdout",
          "text": [
            "enter the number5\n",
            "120\n"
          ]
        }
      ]
    },
    {
      "cell_type": "markdown",
      "source": [
        "Write code to demonstrate type casting with list elements ?"
      ],
      "metadata": {
        "id": "ipNfHfEKwlvG"
      }
    },
    {
      "cell_type": "code",
      "source": [
        "list1 = [1,2.5,3.6,4]\n",
        "int_list=[int(float(item)) for item in list1]\n",
        "print(f\"the list is converted to integer{int_list}\")\n",
        "float_list=[float(item)for item in list1]\n",
        "print(f\"the list is converted tofloat {float_list}\")\n",
        "str_list=[str(item)for item in list1]\n",
        "print(f\"the list is converted to string{str_list}\")"
      ],
      "metadata": {
        "colab": {
          "base_uri": "https://localhost:8080/"
        },
        "id": "mf0zXdydwOJx",
        "outputId": "9d803f73-fe8f-4c3d-bddd-7a455840773b"
      },
      "execution_count": 58,
      "outputs": [
        {
          "output_type": "stream",
          "name": "stdout",
          "text": [
            "the list is converted to integer[1, 2, 3, 4]\n",
            "the list is converted tofloat [1.0, 2.5, 3.6, 4.0]\n",
            "the list is converted to string['1', '2.5', '3.6', '4']\n"
          ]
        }
      ]
    },
    {
      "cell_type": "markdown",
      "source": [
        "Write a program to demonstrate the use of logical operators ?"
      ],
      "metadata": {
        "id": "9sKv3YEJyo7A"
      }
    },
    {
      "cell_type": "code",
      "source": [
        "weather =str(input(\"enter the weather condition\"))\n",
        "if weather==\"sunny\":\n",
        "  print(\"i will play cricket\")\n",
        "elif weather==\"rainy\":\n",
        "  print(\"i will not play cricket\")\n",
        "else:\n",
        "  print(\"i will watch tv\")"
      ],
      "metadata": {
        "colab": {
          "base_uri": "https://localhost:8080/"
        },
        "id": "j1uNp3byxqXL",
        "outputId": "05911911-a134-4cd1-e70c-f7d39ac3eb87"
      },
      "execution_count": 62,
      "outputs": [
        {
          "output_type": "stream",
          "name": "stdout",
          "text": [
            "enter the weather conditionsunny\n",
            "i will play cricket\n"
          ]
        }
      ]
    },
    {
      "cell_type": "markdown",
      "source": [
        " Write a function to demonstrate the behavior of mutable and immutable arguments ?"
      ],
      "metadata": {
        "id": "y34Ia1sNzVIC"
      }
    },
    {
      "cell_type": "code",
      "source": [],
      "metadata": {
        "id": "3ptMASUvy9Hi"
      },
      "execution_count": null,
      "outputs": []
    }
  ]
}